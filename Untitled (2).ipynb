{
 "cells": [
  {
   "cell_type": "code",
   "execution_count": 64,
   "id": "7a441016",
   "metadata": {},
   "outputs": [],
   "source": [
    "import pandas as pd\n",
    "import numpy as np\n",
    "import matplotlib.pyplot as plt\n",
    "import seaborn as sns\n",
    "from sklearn.model_selection import train_test_split\n",
    "#linear Regression model\n",
    "from sklearn.linear_model import LinearRegression\n",
    "from sklearn import metrics\n",
    "from sklearn.ensemble import RandomForestClassifier\n",
    "from sklearn.linear_model import LogisticRegression\n",
    "from sklearn.neighbors import KNeighborsClassifier\n",
    "%matplotlib inline"
   ]
  },
  {
   "cell_type": "code",
   "execution_count": 65,
   "id": "f4a64198",
   "metadata": {},
   "outputs": [
    {
     "data": {
      "text/html": [
       "<div>\n",
       "<style scoped>\n",
       "    .dataframe tbody tr th:only-of-type {\n",
       "        vertical-align: middle;\n",
       "    }\n",
       "\n",
       "    .dataframe tbody tr th {\n",
       "        vertical-align: top;\n",
       "    }\n",
       "\n",
       "    .dataframe thead th {\n",
       "        text-align: right;\n",
       "    }\n",
       "</style>\n",
       "<table border=\"1\" class=\"dataframe\">\n",
       "  <thead>\n",
       "    <tr style=\"text-align: right;\">\n",
       "      <th></th>\n",
       "      <th>Month</th>\n",
       "      <th>WeekOfMonth</th>\n",
       "      <th>DayOfWeek</th>\n",
       "      <th>Make</th>\n",
       "      <th>AccidentArea</th>\n",
       "      <th>DayOfWeekClaimed</th>\n",
       "      <th>MonthClaimed</th>\n",
       "      <th>WeekOfMonthClaimed</th>\n",
       "      <th>Sex</th>\n",
       "      <th>MaritalStatus</th>\n",
       "      <th>...</th>\n",
       "      <th>PoliceReportFiled</th>\n",
       "      <th>WitnessPresent</th>\n",
       "      <th>AgentType</th>\n",
       "      <th>NumberOf Suppliments</th>\n",
       "      <th>AddressChange_Claim</th>\n",
       "      <th>NumberOfCars</th>\n",
       "      <th>Year</th>\n",
       "      <th>BasePolicy</th>\n",
       "      <th>Age_Levels</th>\n",
       "      <th>FraudDetected</th>\n",
       "    </tr>\n",
       "  </thead>\n",
       "  <tbody>\n",
       "    <tr>\n",
       "      <th>0</th>\n",
       "      <td>Dec</td>\n",
       "      <td>5</td>\n",
       "      <td>Wednesday</td>\n",
       "      <td>Honda</td>\n",
       "      <td>Urban</td>\n",
       "      <td>Tuesday</td>\n",
       "      <td>Jan</td>\n",
       "      <td>1</td>\n",
       "      <td>Female</td>\n",
       "      <td>Single</td>\n",
       "      <td>...</td>\n",
       "      <td>No</td>\n",
       "      <td>No</td>\n",
       "      <td>External</td>\n",
       "      <td>none</td>\n",
       "      <td>1 year</td>\n",
       "      <td>3 to 4</td>\n",
       "      <td>1994</td>\n",
       "      <td>Liability</td>\n",
       "      <td>Young</td>\n",
       "      <td>0</td>\n",
       "    </tr>\n",
       "    <tr>\n",
       "      <th>1</th>\n",
       "      <td>Jan</td>\n",
       "      <td>3</td>\n",
       "      <td>Wednesday</td>\n",
       "      <td>Honda</td>\n",
       "      <td>Urban</td>\n",
       "      <td>Monday</td>\n",
       "      <td>Jan</td>\n",
       "      <td>4</td>\n",
       "      <td>Male</td>\n",
       "      <td>Single</td>\n",
       "      <td>...</td>\n",
       "      <td>Yes</td>\n",
       "      <td>No</td>\n",
       "      <td>External</td>\n",
       "      <td>none</td>\n",
       "      <td>no change</td>\n",
       "      <td>1 vehicle</td>\n",
       "      <td>1994</td>\n",
       "      <td>Collision</td>\n",
       "      <td>Adult</td>\n",
       "      <td>0</td>\n",
       "    </tr>\n",
       "    <tr>\n",
       "      <th>2</th>\n",
       "      <td>Oct</td>\n",
       "      <td>5</td>\n",
       "      <td>Friday</td>\n",
       "      <td>Honda</td>\n",
       "      <td>Urban</td>\n",
       "      <td>Thursday</td>\n",
       "      <td>Nov</td>\n",
       "      <td>2</td>\n",
       "      <td>Male</td>\n",
       "      <td>Married</td>\n",
       "      <td>...</td>\n",
       "      <td>No</td>\n",
       "      <td>No</td>\n",
       "      <td>External</td>\n",
       "      <td>none</td>\n",
       "      <td>no change</td>\n",
       "      <td>1 vehicle</td>\n",
       "      <td>1994</td>\n",
       "      <td>Collision</td>\n",
       "      <td>Adult</td>\n",
       "      <td>0</td>\n",
       "    </tr>\n",
       "    <tr>\n",
       "      <th>3</th>\n",
       "      <td>Jun</td>\n",
       "      <td>2</td>\n",
       "      <td>Saturday</td>\n",
       "      <td>Toyota</td>\n",
       "      <td>Rural</td>\n",
       "      <td>Friday</td>\n",
       "      <td>Jul</td>\n",
       "      <td>1</td>\n",
       "      <td>Male</td>\n",
       "      <td>Married</td>\n",
       "      <td>...</td>\n",
       "      <td>Yes</td>\n",
       "      <td>No</td>\n",
       "      <td>External</td>\n",
       "      <td>more than 5</td>\n",
       "      <td>no change</td>\n",
       "      <td>1 vehicle</td>\n",
       "      <td>1994</td>\n",
       "      <td>Liability</td>\n",
       "      <td>Seniors</td>\n",
       "      <td>0</td>\n",
       "    </tr>\n",
       "    <tr>\n",
       "      <th>4</th>\n",
       "      <td>Jan</td>\n",
       "      <td>5</td>\n",
       "      <td>Monday</td>\n",
       "      <td>Honda</td>\n",
       "      <td>Urban</td>\n",
       "      <td>Tuesday</td>\n",
       "      <td>Feb</td>\n",
       "      <td>2</td>\n",
       "      <td>Female</td>\n",
       "      <td>Single</td>\n",
       "      <td>...</td>\n",
       "      <td>No</td>\n",
       "      <td>No</td>\n",
       "      <td>External</td>\n",
       "      <td>none</td>\n",
       "      <td>no change</td>\n",
       "      <td>1 vehicle</td>\n",
       "      <td>1994</td>\n",
       "      <td>Collision</td>\n",
       "      <td>Adult</td>\n",
       "      <td>0</td>\n",
       "    </tr>\n",
       "  </tbody>\n",
       "</table>\n",
       "<p>5 rows × 35 columns</p>\n",
       "</div>"
      ],
      "text/plain": [
       "  Month  WeekOfMonth  DayOfWeek    Make AccidentArea DayOfWeekClaimed  \\\n",
       "0   Dec            5  Wednesday   Honda        Urban          Tuesday   \n",
       "1   Jan            3  Wednesday   Honda        Urban           Monday   \n",
       "2   Oct            5     Friday   Honda        Urban         Thursday   \n",
       "3   Jun            2   Saturday  Toyota        Rural           Friday   \n",
       "4   Jan            5     Monday   Honda        Urban          Tuesday   \n",
       "\n",
       "  MonthClaimed  WeekOfMonthClaimed     Sex MaritalStatus  ...  \\\n",
       "0          Jan                   1  Female        Single  ...   \n",
       "1          Jan                   4    Male        Single  ...   \n",
       "2          Nov                   2    Male       Married  ...   \n",
       "3          Jul                   1    Male       Married  ...   \n",
       "4          Feb                   2  Female        Single  ...   \n",
       "\n",
       "   PoliceReportFiled WitnessPresent AgentType NumberOf Suppliments  \\\n",
       "0                 No             No  External                 none   \n",
       "1                Yes             No  External                 none   \n",
       "2                 No             No  External                 none   \n",
       "3                Yes             No  External          more than 5   \n",
       "4                 No             No  External                 none   \n",
       "\n",
       "  AddressChange_Claim  NumberOfCars  Year  BasePolicy  Age_Levels  \\\n",
       "0              1 year        3 to 4  1994   Liability       Young   \n",
       "1           no change     1 vehicle  1994   Collision       Adult   \n",
       "2           no change     1 vehicle  1994   Collision       Adult   \n",
       "3           no change     1 vehicle  1994   Liability     Seniors   \n",
       "4           no change     1 vehicle  1994   Collision       Adult   \n",
       "\n",
       "   FraudDetected  \n",
       "0              0  \n",
       "1              0  \n",
       "2              0  \n",
       "3              0  \n",
       "4              0  \n",
       "\n",
       "[5 rows x 35 columns]"
      ]
     },
     "execution_count": 65,
     "metadata": {},
     "output_type": "execute_result"
    }
   ],
   "source": [
    "# read_file = pd.read_excel(\"Personal_Auto_Fraud.xslx\")\n",
    "# read_file.to_csv(\"TESTF.csv\",index = None,header=True)\n",
    "df =pd.read_csv(\"TESTF.csv\")\n",
    "df.head(5)"
   ]
  },
  {
   "cell_type": "code",
   "execution_count": 66,
   "id": "520da151",
   "metadata": {},
   "outputs": [],
   "source": [
    "#To check ages of the driver that falls into this category\n",
    "#Binning\n",
    "def binningFunction(col, cut_points, labels=None):\n",
    "  minval = col.min()\n",
    "  maxval = col.max()\n",
    "  break_points = [minval] + cut_points + [maxval]\n",
    "  print (break_points)\n",
    "  if not labels:\n",
    "    labels = range(len(cut_points)+1)\n",
    "  colBin = pd.cut(col,bins=break_points,labels=labels,include_lowest=True)\n",
    "  return colBin"
   ]
  },
  {
   "cell_type": "code",
   "execution_count": 67,
   "id": "991e4e3f",
   "metadata": {},
   "outputs": [
    {
     "name": "stdout",
     "output_type": "stream",
     "text": [
      "[0, 25, 59, 80]\n"
     ]
    },
    {
     "data": {
      "text/html": [
       "<div>\n",
       "<style scoped>\n",
       "    .dataframe tbody tr th:only-of-type {\n",
       "        vertical-align: middle;\n",
       "    }\n",
       "\n",
       "    .dataframe tbody tr th {\n",
       "        vertical-align: top;\n",
       "    }\n",
       "\n",
       "    .dataframe thead th {\n",
       "        text-align: right;\n",
       "    }\n",
       "</style>\n",
       "<table border=\"1\" class=\"dataframe\">\n",
       "  <thead>\n",
       "    <tr style=\"text-align: right;\">\n",
       "      <th></th>\n",
       "      <th>Month</th>\n",
       "      <th>WeekOfMonth</th>\n",
       "      <th>DayOfWeek</th>\n",
       "      <th>Make</th>\n",
       "      <th>AccidentArea</th>\n",
       "      <th>DayOfWeekClaimed</th>\n",
       "      <th>MonthClaimed</th>\n",
       "      <th>WeekOfMonthClaimed</th>\n",
       "      <th>Sex</th>\n",
       "      <th>MaritalStatus</th>\n",
       "      <th>...</th>\n",
       "      <th>PoliceReportFiled</th>\n",
       "      <th>WitnessPresent</th>\n",
       "      <th>AgentType</th>\n",
       "      <th>NumberOf Suppliments</th>\n",
       "      <th>AddressChange_Claim</th>\n",
       "      <th>NumberOfCars</th>\n",
       "      <th>Year</th>\n",
       "      <th>BasePolicy</th>\n",
       "      <th>Age_Levels</th>\n",
       "      <th>FraudDetected</th>\n",
       "    </tr>\n",
       "  </thead>\n",
       "  <tbody>\n",
       "    <tr>\n",
       "      <th>0</th>\n",
       "      <td>Dec</td>\n",
       "      <td>5</td>\n",
       "      <td>Wednesday</td>\n",
       "      <td>Honda</td>\n",
       "      <td>Urban</td>\n",
       "      <td>Tuesday</td>\n",
       "      <td>Jan</td>\n",
       "      <td>1</td>\n",
       "      <td>Female</td>\n",
       "      <td>Single</td>\n",
       "      <td>...</td>\n",
       "      <td>No</td>\n",
       "      <td>No</td>\n",
       "      <td>External</td>\n",
       "      <td>none</td>\n",
       "      <td>1 year</td>\n",
       "      <td>3 to 4</td>\n",
       "      <td>1994</td>\n",
       "      <td>Liability</td>\n",
       "      <td>Young</td>\n",
       "      <td>0</td>\n",
       "    </tr>\n",
       "    <tr>\n",
       "      <th>1</th>\n",
       "      <td>Jan</td>\n",
       "      <td>3</td>\n",
       "      <td>Wednesday</td>\n",
       "      <td>Honda</td>\n",
       "      <td>Urban</td>\n",
       "      <td>Monday</td>\n",
       "      <td>Jan</td>\n",
       "      <td>4</td>\n",
       "      <td>Male</td>\n",
       "      <td>Single</td>\n",
       "      <td>...</td>\n",
       "      <td>Yes</td>\n",
       "      <td>No</td>\n",
       "      <td>External</td>\n",
       "      <td>none</td>\n",
       "      <td>no change</td>\n",
       "      <td>1 vehicle</td>\n",
       "      <td>1994</td>\n",
       "      <td>Collision</td>\n",
       "      <td>Adult</td>\n",
       "      <td>0</td>\n",
       "    </tr>\n",
       "    <tr>\n",
       "      <th>2</th>\n",
       "      <td>Oct</td>\n",
       "      <td>5</td>\n",
       "      <td>Friday</td>\n",
       "      <td>Honda</td>\n",
       "      <td>Urban</td>\n",
       "      <td>Thursday</td>\n",
       "      <td>Nov</td>\n",
       "      <td>2</td>\n",
       "      <td>Male</td>\n",
       "      <td>Married</td>\n",
       "      <td>...</td>\n",
       "      <td>No</td>\n",
       "      <td>No</td>\n",
       "      <td>External</td>\n",
       "      <td>none</td>\n",
       "      <td>no change</td>\n",
       "      <td>1 vehicle</td>\n",
       "      <td>1994</td>\n",
       "      <td>Collision</td>\n",
       "      <td>Adult</td>\n",
       "      <td>0</td>\n",
       "    </tr>\n",
       "    <tr>\n",
       "      <th>3</th>\n",
       "      <td>Jun</td>\n",
       "      <td>2</td>\n",
       "      <td>Saturday</td>\n",
       "      <td>Toyota</td>\n",
       "      <td>Rural</td>\n",
       "      <td>Friday</td>\n",
       "      <td>Jul</td>\n",
       "      <td>1</td>\n",
       "      <td>Male</td>\n",
       "      <td>Married</td>\n",
       "      <td>...</td>\n",
       "      <td>Yes</td>\n",
       "      <td>No</td>\n",
       "      <td>External</td>\n",
       "      <td>more than 5</td>\n",
       "      <td>no change</td>\n",
       "      <td>1 vehicle</td>\n",
       "      <td>1994</td>\n",
       "      <td>Liability</td>\n",
       "      <td>Seniors</td>\n",
       "      <td>0</td>\n",
       "    </tr>\n",
       "    <tr>\n",
       "      <th>4</th>\n",
       "      <td>Jan</td>\n",
       "      <td>5</td>\n",
       "      <td>Monday</td>\n",
       "      <td>Honda</td>\n",
       "      <td>Urban</td>\n",
       "      <td>Tuesday</td>\n",
       "      <td>Feb</td>\n",
       "      <td>2</td>\n",
       "      <td>Female</td>\n",
       "      <td>Single</td>\n",
       "      <td>...</td>\n",
       "      <td>No</td>\n",
       "      <td>No</td>\n",
       "      <td>External</td>\n",
       "      <td>none</td>\n",
       "      <td>no change</td>\n",
       "      <td>1 vehicle</td>\n",
       "      <td>1994</td>\n",
       "      <td>Collision</td>\n",
       "      <td>Adult</td>\n",
       "      <td>0</td>\n",
       "    </tr>\n",
       "    <tr>\n",
       "      <th>...</th>\n",
       "      <td>...</td>\n",
       "      <td>...</td>\n",
       "      <td>...</td>\n",
       "      <td>...</td>\n",
       "      <td>...</td>\n",
       "      <td>...</td>\n",
       "      <td>...</td>\n",
       "      <td>...</td>\n",
       "      <td>...</td>\n",
       "      <td>...</td>\n",
       "      <td>...</td>\n",
       "      <td>...</td>\n",
       "      <td>...</td>\n",
       "      <td>...</td>\n",
       "      <td>...</td>\n",
       "      <td>...</td>\n",
       "      <td>...</td>\n",
       "      <td>...</td>\n",
       "      <td>...</td>\n",
       "      <td>...</td>\n",
       "      <td>...</td>\n",
       "    </tr>\n",
       "    <tr>\n",
       "      <th>15415</th>\n",
       "      <td>Nov</td>\n",
       "      <td>4</td>\n",
       "      <td>Friday</td>\n",
       "      <td>Toyota</td>\n",
       "      <td>Urban</td>\n",
       "      <td>Tuesday</td>\n",
       "      <td>Nov</td>\n",
       "      <td>5</td>\n",
       "      <td>Male</td>\n",
       "      <td>Married</td>\n",
       "      <td>...</td>\n",
       "      <td>No</td>\n",
       "      <td>No</td>\n",
       "      <td>External</td>\n",
       "      <td>none</td>\n",
       "      <td>no change</td>\n",
       "      <td>1 vehicle</td>\n",
       "      <td>1996</td>\n",
       "      <td>Collision</td>\n",
       "      <td>Adult</td>\n",
       "      <td>0</td>\n",
       "    </tr>\n",
       "    <tr>\n",
       "      <th>15416</th>\n",
       "      <td>Nov</td>\n",
       "      <td>5</td>\n",
       "      <td>Thursday</td>\n",
       "      <td>Pontiac</td>\n",
       "      <td>Urban</td>\n",
       "      <td>Friday</td>\n",
       "      <td>Dec</td>\n",
       "      <td>1</td>\n",
       "      <td>Male</td>\n",
       "      <td>Married</td>\n",
       "      <td>...</td>\n",
       "      <td>No</td>\n",
       "      <td>No</td>\n",
       "      <td>External</td>\n",
       "      <td>more than 5</td>\n",
       "      <td>no change</td>\n",
       "      <td>3 to 4</td>\n",
       "      <td>1996</td>\n",
       "      <td>Liability</td>\n",
       "      <td>Adult</td>\n",
       "      <td>1</td>\n",
       "    </tr>\n",
       "    <tr>\n",
       "      <th>15417</th>\n",
       "      <td>Nov</td>\n",
       "      <td>5</td>\n",
       "      <td>Thursday</td>\n",
       "      <td>Toyota</td>\n",
       "      <td>Rural</td>\n",
       "      <td>Friday</td>\n",
       "      <td>Dec</td>\n",
       "      <td>1</td>\n",
       "      <td>Male</td>\n",
       "      <td>Single</td>\n",
       "      <td>...</td>\n",
       "      <td>No</td>\n",
       "      <td>No</td>\n",
       "      <td>External</td>\n",
       "      <td>1 to 2</td>\n",
       "      <td>no change</td>\n",
       "      <td>1 vehicle</td>\n",
       "      <td>1996</td>\n",
       "      <td>Collision</td>\n",
       "      <td>Young</td>\n",
       "      <td>1</td>\n",
       "    </tr>\n",
       "    <tr>\n",
       "      <th>15418</th>\n",
       "      <td>Dec</td>\n",
       "      <td>1</td>\n",
       "      <td>Monday</td>\n",
       "      <td>Toyota</td>\n",
       "      <td>Urban</td>\n",
       "      <td>Thursday</td>\n",
       "      <td>Dec</td>\n",
       "      <td>2</td>\n",
       "      <td>Female</td>\n",
       "      <td>Married</td>\n",
       "      <td>...</td>\n",
       "      <td>No</td>\n",
       "      <td>No</td>\n",
       "      <td>External</td>\n",
       "      <td>more than 5</td>\n",
       "      <td>no change</td>\n",
       "      <td>1 vehicle</td>\n",
       "      <td>1996</td>\n",
       "      <td>All Perils</td>\n",
       "      <td>Adult</td>\n",
       "      <td>0</td>\n",
       "    </tr>\n",
       "    <tr>\n",
       "      <th>15419</th>\n",
       "      <td>Dec</td>\n",
       "      <td>2</td>\n",
       "      <td>Wednesday</td>\n",
       "      <td>Toyota</td>\n",
       "      <td>Urban</td>\n",
       "      <td>Thursday</td>\n",
       "      <td>Dec</td>\n",
       "      <td>3</td>\n",
       "      <td>Male</td>\n",
       "      <td>Single</td>\n",
       "      <td>...</td>\n",
       "      <td>No</td>\n",
       "      <td>No</td>\n",
       "      <td>External</td>\n",
       "      <td>1 to 2</td>\n",
       "      <td>no change</td>\n",
       "      <td>1 vehicle</td>\n",
       "      <td>1996</td>\n",
       "      <td>Collision</td>\n",
       "      <td>Young</td>\n",
       "      <td>0</td>\n",
       "    </tr>\n",
       "  </tbody>\n",
       "</table>\n",
       "<p>15420 rows × 35 columns</p>\n",
       "</div>"
      ],
      "text/plain": [
       "      Month  WeekOfMonth  DayOfWeek     Make AccidentArea DayOfWeekClaimed  \\\n",
       "0       Dec            5  Wednesday    Honda        Urban          Tuesday   \n",
       "1       Jan            3  Wednesday    Honda        Urban           Monday   \n",
       "2       Oct            5     Friday    Honda        Urban         Thursday   \n",
       "3       Jun            2   Saturday   Toyota        Rural           Friday   \n",
       "4       Jan            5     Monday    Honda        Urban          Tuesday   \n",
       "...     ...          ...        ...      ...          ...              ...   \n",
       "15415   Nov            4     Friday   Toyota        Urban          Tuesday   \n",
       "15416   Nov            5   Thursday  Pontiac        Urban           Friday   \n",
       "15417   Nov            5   Thursday   Toyota        Rural           Friday   \n",
       "15418   Dec            1     Monday   Toyota        Urban         Thursday   \n",
       "15419   Dec            2  Wednesday   Toyota        Urban         Thursday   \n",
       "\n",
       "      MonthClaimed  WeekOfMonthClaimed     Sex MaritalStatus  ...  \\\n",
       "0              Jan                   1  Female        Single  ...   \n",
       "1              Jan                   4    Male        Single  ...   \n",
       "2              Nov                   2    Male       Married  ...   \n",
       "3              Jul                   1    Male       Married  ...   \n",
       "4              Feb                   2  Female        Single  ...   \n",
       "...            ...                 ...     ...           ...  ...   \n",
       "15415          Nov                   5    Male       Married  ...   \n",
       "15416          Dec                   1    Male       Married  ...   \n",
       "15417          Dec                   1    Male        Single  ...   \n",
       "15418          Dec                   2  Female       Married  ...   \n",
       "15419          Dec                   3    Male        Single  ...   \n",
       "\n",
       "       PoliceReportFiled WitnessPresent AgentType NumberOf Suppliments  \\\n",
       "0                     No             No  External                 none   \n",
       "1                    Yes             No  External                 none   \n",
       "2                     No             No  External                 none   \n",
       "3                    Yes             No  External          more than 5   \n",
       "4                     No             No  External                 none   \n",
       "...                  ...            ...       ...                  ...   \n",
       "15415                 No             No  External                 none   \n",
       "15416                 No             No  External          more than 5   \n",
       "15417                 No             No  External               1 to 2   \n",
       "15418                 No             No  External          more than 5   \n",
       "15419                 No             No  External               1 to 2   \n",
       "\n",
       "      AddressChange_Claim  NumberOfCars  Year  BasePolicy  Age_Levels  \\\n",
       "0                  1 year        3 to 4  1994   Liability       Young   \n",
       "1               no change     1 vehicle  1994   Collision       Adult   \n",
       "2               no change     1 vehicle  1994   Collision       Adult   \n",
       "3               no change     1 vehicle  1994   Liability     Seniors   \n",
       "4               no change     1 vehicle  1994   Collision       Adult   \n",
       "...                   ...           ...   ...         ...         ...   \n",
       "15415           no change     1 vehicle  1996   Collision       Adult   \n",
       "15416           no change        3 to 4  1996   Liability       Adult   \n",
       "15417           no change     1 vehicle  1996   Collision       Young   \n",
       "15418           no change     1 vehicle  1996  All Perils       Adult   \n",
       "15419           no change     1 vehicle  1996   Collision       Young   \n",
       "\n",
       "       FraudDetected  \n",
       "0                  0  \n",
       "1                  0  \n",
       "2                  0  \n",
       "3                  0  \n",
       "4                  0  \n",
       "...              ...  \n",
       "15415              0  \n",
       "15416              1  \n",
       "15417              1  \n",
       "15418              0  \n",
       "15419              0  \n",
       "\n",
       "[15420 rows x 35 columns]"
      ]
     },
     "execution_count": 67,
     "metadata": {},
     "output_type": "execute_result"
    }
   ],
   "source": [
    "cut_points = [25,59];\n",
    "labels = [\"Young\",\"Adult\", \"Seniors\"]\n",
    "df[\"Age_Levels\"] = binningFunction(df[\"Age\"], cut_points, labels)\n",
    "df"
   ]
  },
  {
   "cell_type": "code",
   "execution_count": 68,
   "id": "ace89d6f",
   "metadata": {},
   "outputs": [
    {
     "data": {
      "text/plain": [
       "Adult      1736\n",
       "Seniors     159\n",
       "Young       112\n",
       "Name: Age_Levels, dtype: int64"
      ]
     },
     "execution_count": 68,
     "metadata": {},
     "output_type": "execute_result"
    }
   ],
   "source": [
    "df[((df['Days_Policy_Accident'] == '15 to 30') | (df['Days_Policy_Accident'] == 'more than 30')) & (df['PastNumberOfClaims'] == 'more than 4')].Age_Levels.value_counts()"
   ]
  },
  {
   "cell_type": "code",
   "execution_count": 69,
   "id": "26d4a2d9",
   "metadata": {},
   "outputs": [
    {
     "data": {
      "text/plain": [
       "CategoricalIndex(['Adult', 'Seniors', 'Young'], categories=['Young', 'Adult', 'Seniors'], ordered=True, dtype='category')"
      ]
     },
     "execution_count": 69,
     "metadata": {},
     "output_type": "execute_result"
    }
   ],
   "source": [
    "#Saving all age groups\n",
    "age_index = df[((df['Days_Policy_Accident'] == '15 to 30') | (df['Days_Policy_Accident'] == 'more than 30')) & (df['PastNumberOfClaims'] == 'more than 4')].Age_Levels.value_counts().index\n",
    "age_index"
   ]
  },
  {
   "cell_type": "code",
   "execution_count": 70,
   "id": "ca9bb8b0",
   "metadata": {},
   "outputs": [
    {
     "data": {
      "text/plain": [
       "array([1736,  159,  112], dtype=int64)"
      ]
     },
     "execution_count": 70,
     "metadata": {},
     "output_type": "execute_result"
    }
   ],
   "source": [
    "#Saving all values\n",
    "age_values = df[((df['Days_Policy_Accident'] == '15 to 30') | (df['Days_Policy_Accident'] == 'more than 30')) & (df['PastNumberOfClaims'] == 'more than 4')].Age_Levels.value_counts().values\n",
    "age_values"
   ]
  },
  {
   "cell_type": "code",
   "execution_count": 71,
   "id": "2a8260ab",
   "metadata": {},
   "outputs": [
    {
     "data": {
      "text/plain": [
       "([<matplotlib.patches.Wedge at 0x295c8bdb910>,\n",
       "  <matplotlib.patches.Wedge at 0x295c8bea100>,\n",
       "  <matplotlib.patches.Wedge at 0x295c8bea820>],\n",
       " [Text(-1.0025046230446084, 0.45275211846460545, 'Adult'),\n",
       "  Text(0.9081692496469208, -0.6206678773673963, 'Seniors'),\n",
       "  Text(1.0831386978354631, -0.19186078612185797, 'Young')],\n",
       " [Text(-0.5468207034788772, 0.24695570098069386, '86.50%'),\n",
       "  Text(0.49536504526195674, -0.3385461149276706, '7.92%'),\n",
       "  Text(0.5908029260920707, -0.1046513378846498, '5.58%')])"
      ]
     },
     "execution_count": 71,
     "metadata": {},
     "output_type": "execute_result"
    },
    {
     "data": {
      "image/png": "[encoded data removed]",
      "text/plain": [
       "<Figure size 432x288 with 1 Axes>"
      ]
     },
     "metadata": {},
     "output_type": "display_data"
    }
   ],
   "source": [
    "#Plotting a Pie Chart to evaluate top 3 age groups where Lapse happens\n",
    "plt.pie(age_values[:3],labels=age_index[:3],autopct='%1.2f%%')"
   ]
  },
  {
   "cell_type": "code",
   "execution_count": 72,
   "id": "d8de59e8",
   "metadata": {},
   "outputs": [
    {
     "data": {
      "text/plain": [
       "0    1939\n",
       "1      68\n",
       "Name: FraudFound_P, dtype: int64"
      ]
     },
     "execution_count": 72,
     "metadata": {},
     "output_type": "execute_result"
    }
   ],
   "source": [
    "#Identifying count of Potential Fraud\n",
    "df[((df['Days_Policy_Accident'] == '15 to 30') | (df['Days_Policy_Accident'] == 'more than 30')) & (df['PastNumberOfClaims'] == 'more than 4')].FraudFound_P.value_counts()"
   ]
  },
  {
   "cell_type": "code",
   "execution_count": 73,
   "id": "d8f2b4b5",
   "metadata": {},
   "outputs": [],
   "source": [
    "Fraud_Index = df[((df['Days_Policy_Accident'] == '15 to 30') | (df['Days_Policy_Accident'] == 'more than 30')) & (df['PastNumberOfClaims'] == 'more than 4')].FraudFound_P.value_counts().index"
   ]
  },
  {
   "cell_type": "code",
   "execution_count": 74,
   "id": "62c899da",
   "metadata": {},
   "outputs": [],
   "source": [
    "Fraud_Val = df[((df['Days_Policy_Accident'] == '15 to 30') | (df['Days_Policy_Accident'] == 'more than 30')) & (df['PastNumberOfClaims'] == 'more than 4')].FraudFound_P.value_counts().values"
   ]
  },
  {
   "cell_type": "code",
   "execution_count": 75,
   "id": "0aab88a7",
   "metadata": {},
   "outputs": [
    {
     "data": {
      "text/plain": [
       "([<matplotlib.patches.Wedge at 0x295c8c2f820>,\n",
       "  <matplotlib.patches.Wedge at 0x295c8c2ffa0>],\n",
       " [Text(-1.0937744788371986, 0.11686483407943998, '0'),\n",
       "  Text(1.0937744747340694, -0.11686487248189917, '1')],\n",
       " [Text(-0.5966042611839264, 0.0637444549524218, '96.61%'),\n",
       "  Text(0.596604258945856, -0.06374447589921772, '3.39%')])"
      ]
     },
     "execution_count": 75,
     "metadata": {},
     "output_type": "execute_result"
    },
    {
     "data": {
      "image/png": "[encoded data removed]",
      "text/plain": [
       "<Figure size 432x288 with 1 Axes>"
      ]
     },
     "metadata": {},
     "output_type": "display_data"
    }
   ],
   "source": [
    "#Fraud percentage\n",
    "plt.pie(Fraud_Val[:2],labels=Fraud_Index[:3],autopct='%1.2f%%')"
   ]
  },
  {
   "cell_type": "code",
   "execution_count": 76,
   "id": "59ed3f9f",
   "metadata": {},
   "outputs": [
    {
     "data": {
      "text/plain": [
       "Pontiac      506\n",
       "Honda        377\n",
       "Toyota       349\n",
       "Mazda        277\n",
       "Chevrolet    260\n",
       "Accura        68\n",
       "Ford          58\n",
       "VW            50\n",
       "Saab          22\n",
       "Dodge         16\n",
       "Mercury       11\n",
       "Nisson         6\n",
       "Saturn         4\n",
       "Porche         1\n",
       "Jaguar         1\n",
       "BMW            1\n",
       "Name: Make, dtype: int64"
      ]
     },
     "execution_count": 76,
     "metadata": {},
     "output_type": "execute_result"
    }
   ],
   "source": [
    "#Identifying top 5 Make of Vehicles\n",
    "df[((df['Days_Policy_Accident'] == '15 to 30') | (df['Days_Policy_Accident'] == 'more than 30')) & (df['PastNumberOfClaims'] == 'more than 4')].Make.value_counts()\n"
   ]
  },
  {
   "cell_type": "code",
   "execution_count": 77,
   "id": "e84ffc06",
   "metadata": {},
   "outputs": [],
   "source": [
    "Veh_index = df[((df['Days_Policy_Accident'] == '15 to 30') | (df['Days_Policy_Accident'] == 'more than 30')) & (df['PastNumberOfClaims'] == 'more than 4')].Make.value_counts().index"
   ]
  },
  {
   "cell_type": "code",
   "execution_count": 78,
   "id": "75c8249e",
   "metadata": {},
   "outputs": [],
   "source": [
    "Veh_Val = df[((df['Days_Policy_Accident'] == '15 to 30') | (df['Days_Policy_Accident'] == 'more than 30')) & (df['PastNumberOfClaims'] == 'more than 4')].Make.value_counts().values"
   ]
  },
  {
   "cell_type": "code",
   "execution_count": 79,
   "id": "bc06affc",
   "metadata": {},
   "outputs": [
    {
     "data": {
      "text/plain": [
       "([<matplotlib.patches.Wedge at 0x295c8c73df0>,\n",
       "  <matplotlib.patches.Wedge at 0x295c8c805b0>,\n",
       "  <matplotlib.patches.Wedge at 0x295c8c80d00>,\n",
       "  <matplotlib.patches.Wedge at 0x295c8c8c460>,\n",
       "  <matplotlib.patches.Wedge at 0x295c8c8cb80>],\n",
       " [Text(0.6849657146754937, 0.8607101543023007, 'Pontiac'),\n",
       "  Text(-0.8588824118200613, 0.6872561405081478, 'Honda'),\n",
       "  Text(-0.89878936538483, -0.6341747997761618, 'Toyota'),\n",
       "  Text(0.1702446365855688, -1.08674595178167, 'Mazda'),\n",
       "  Text(0.9848076331965366, -0.4900550230309205, 'Chevrolet')],\n",
       " [Text(0.37361766255026924, 0.4694782659830731, '28.60%'),\n",
       "  Text(-0.46848131553821515, 0.3748669857317169, '21.31%'),\n",
       "  Text(-0.4902487447553618, -0.3459135271506336, '19.73%'),\n",
       "  Text(0.09286071086485569, -0.5927705191536381, '15.66%'),\n",
       "  Text(0.5371677999253835, -0.26730273983504754, '14.70%')])"
      ]
     },
     "execution_count": 79,
     "metadata": {},
     "output_type": "execute_result"
    },
    {
     "data": {
      "image/png": "[encoded data removed]",
      "text/plain": [
       "<Figure size 432x288 with 1 Axes>"
      ]
     },
     "metadata": {},
     "output_type": "display_data"
    }
   ],
   "source": [
    "#Pie Chart calculation\n",
    "plt.pie(Veh_Val[:5],labels=Veh_index[:5],autopct='%1.2f%%')"
   ]
  },
  {
   "cell_type": "code",
   "execution_count": 80,
   "id": "23567ece",
   "metadata": {},
   "outputs": [
    {
     "data": {
      "text/plain": [
       "20000 to 29000     982\n",
       "30000 to 39000     576\n",
       "more than 69000    296\n",
       "40000 to 59000      99\n",
       "less than 20000     43\n",
       "60000 to 69000      11\n",
       "Name: VehiclePrice, dtype: int64"
      ]
     },
     "execution_count": 80,
     "metadata": {},
     "output_type": "execute_result"
    }
   ],
   "source": [
    "#Checking Vehicle Cost\n",
    "df[((df['Days_Policy_Accident'] == '15 to 30') | (df['Days_Policy_Accident'] == 'more than 30')) & (df['PastNumberOfClaims'] == 'more than 4')].VehiclePrice.value_counts()"
   ]
  },
  {
   "cell_type": "code",
   "execution_count": 81,
   "id": "c4597530",
   "metadata": {},
   "outputs": [],
   "source": [
    "price_val = df[((df['Days_Policy_Accident'] == '15 to 30') | (df['Days_Policy_Accident'] == 'more than 30')) & (df['PastNumberOfClaims'] == 'more than 4')].VehiclePrice.value_counts().values"
   ]
  },
  {
   "cell_type": "code",
   "execution_count": 82,
   "id": "ec675249",
   "metadata": {},
   "outputs": [],
   "source": [
    "price_index = df[((df['Days_Policy_Accident'] == '15 to 30') | (df['Days_Policy_Accident'] == 'more than 30')) & (df['PastNumberOfClaims'] == 'more than 4')].VehiclePrice.value_counts().index"
   ]
  },
  {
   "cell_type": "code",
   "execution_count": 83,
   "id": "ee3012f7",
   "metadata": {},
   "outputs": [
    {
     "data": {
      "text/plain": [
       "([<matplotlib.patches.Wedge at 0x295c8b77280>,\n",
       "  <matplotlib.patches.Wedge at 0x295c8b77a60>,\n",
       "  <matplotlib.patches.Wedge at 0x295c8b77e80>,\n",
       "  <matplotlib.patches.Wedge at 0x295c884be80>,\n",
       "  <matplotlib.patches.Wedge at 0x295c884b8e0>],\n",
       " [Text(0.02769844882058488, 1.0996512155828928, '20000 to 29000'),\n",
       "  Text(-0.7208223909047641, -0.8309121979910631, '30000 to 39000'),\n",
       "  Text(0.6726098770502487, -0.8703998812582925, 'more than 69000'),\n",
       "  Text(1.053696518978962, -0.315790509502135, '40000 to 59000'),\n",
       "  Text(1.0974816831873349, -0.07439055765548692, 'less than 20000')],\n",
       " [Text(0.015108244811228114, 0.599809753954305, '49.20%'),\n",
       "  Text(-0.3931758495844167, -0.4532248352678525, '28.86%'),\n",
       "  Text(0.366878114754681, -0.4747635715954322, '14.83%'),\n",
       "  Text(0.5747435558067066, -0.17224936881934633, '4.96%'),\n",
       "  Text(0.5986263726476372, -0.04057666781208377, '2.15%')])"
      ]
     },
     "execution_count": 83,
     "metadata": {},
     "output_type": "execute_result"
    },
    {
     "data": {
      "image/png": "[encoded data removed]",
      "text/plain": [
       "<Figure size 432x288 with 1 Axes>"
      ]
     },
     "metadata": {},
     "output_type": "display_data"
    }
   ],
   "source": [
    "#Checking to 3 Vehicle Price Brackets\n",
    "plt.pie(price_val[:5],labels=price_index[:5],autopct='%1.2f%%')"
   ]
  },
  {
   "cell_type": "code",
   "execution_count": 84,
   "id": "800f176a",
   "metadata": {},
   "outputs": [
    {
     "data": {
      "text/plain": [
       "more than 4    2007\n",
       "Name: PastNumberOfClaims, dtype: int64"
      ]
     },
     "execution_count": 84,
     "metadata": {},
     "output_type": "execute_result"
    }
   ],
   "source": [
    "#checking with past# of claims\n",
    "df[((df['Days_Policy_Accident'] == '15 to 30') | (df['Days_Policy_Accident'] == 'more than 30')) & (df['PastNumberOfClaims'] == 'more than 4')].PastNumberOfClaims.value_counts()"
   ]
  },
  {
   "cell_type": "code",
   "execution_count": 85,
   "id": "ea60712d",
   "metadata": {},
   "outputs": [],
   "source": [
    "past_index = df[((df['Days_Policy_Accident'] == '15 to 30') | (df['Days_Policy_Accident'] == 'more than 30')) & (df['PastNumberOfClaims'] == 'more than 4')].PastNumberOfClaims.value_counts().index"
   ]
  },
  {
   "cell_type": "code",
   "execution_count": 86,
   "id": "a6d80f81",
   "metadata": {},
   "outputs": [],
   "source": [
    "past_val = df[((df['Days_Policy_Accident'] == '15 to 30') | (df['Days_Policy_Accident'] == 'more than 30')) & (df['PastNumberOfClaims'] == 'more than 4')].PastNumberOfClaims.value_counts().values"
   ]
  },
  {
   "cell_type": "code",
   "execution_count": 87,
   "id": "6c74a020",
   "metadata": {},
   "outputs": [
    {
     "data": {
      "text/plain": [
       "([<matplotlib.patches.Wedge at 0x295c8cb61c0>],\n",
       " [Text(-1.1, 1.3471114790620887e-16, 'more than 4')],\n",
       " [Text(-0.6, 7.347880794884119e-17, '100.00%')])"
      ]
     },
     "execution_count": 87,
     "metadata": {},
     "output_type": "execute_result"
    },
    {
     "data": {
      "image/png": "[encoded data removed]",
      "text/plain": [
       "<Figure size 432x288 with 1 Axes>"
      ]
     },
     "metadata": {},
     "output_type": "display_data"
    }
   ],
   "source": [
    "plt.pie(past_val[:3],labels=past_index[:3],autopct='%1.2f%%')"
   ]
  },
  {
   "cell_type": "code",
   "execution_count": 88,
   "id": "e2c239b2",
   "metadata": {},
   "outputs": [],
   "source": [
    "df['AgeOfVehicle']=df['AgeOfVehicle'].replace(to_replace=[\"2 years\", \"3 years\"],\n",
    "           value=\"less than 4 years\")\n",
    "df['AgeOfVehicle']=df['AgeOfVehicle'].replace(to_replace=[\"4 years\", \"5 years\", \"6 years\", \"7 years\"],\n",
    "           value=\"4 to 7 years\")\n"
   ]
  },
  {
   "cell_type": "code",
   "execution_count": 89,
   "id": "11f8f13c",
   "metadata": {},
   "outputs": [
    {
     "data": {
      "text/plain": [
       "4 to 7 years         1458\n",
       "more than 7           486\n",
       "new                    50\n",
       "less than 4 years      13\n",
       "Name: AgeOfVehicle, dtype: int64"
      ]
     },
     "execution_count": 89,
     "metadata": {},
     "output_type": "execute_result"
    }
   ],
   "source": [
    "df[((df['Days_Policy_Accident'] == '15 to 30') | (df['Days_Policy_Accident'] == 'more than 30')) & (df['PastNumberOfClaims'] == 'more than 4')].AgeOfVehicle.value_counts()"
   ]
  },
  {
   "cell_type": "code",
   "execution_count": 90,
   "id": "f72dc06d",
   "metadata": {},
   "outputs": [],
   "source": [
    "vehage_index = df[((df['Days_Policy_Accident'] == '15 to 30') | (df['Days_Policy_Accident'] == 'more than 30')) & (df['PastNumberOfClaims'] == 'more than 4')].AgeOfVehicle.value_counts().index"
   ]
  },
  {
   "cell_type": "code",
   "execution_count": 91,
   "id": "9ca307a9",
   "metadata": {},
   "outputs": [],
   "source": [
    "vehage_vals = df[((df['Days_Policy_Accident'] == '15 to 30') | (df['Days_Policy_Accident'] == 'more than 30')) & (df['PastNumberOfClaims'] == 'more than 4')].AgeOfVehicle.value_counts().values"
   ]
  },
  {
   "cell_type": "code",
   "execution_count": 92,
   "id": "dedca155",
   "metadata": {},
   "outputs": [
    {
     "data": {
      "text/plain": [
       "([<matplotlib.patches.Wedge at 0x295c8cecdf0>,\n",
       "  <matplotlib.patches.Wedge at 0x295c8cf85b0>,\n",
       "  <matplotlib.patches.Wedge at 0x295c8cf8cd0>,\n",
       "  <matplotlib.patches.Wedge at 0x295c8d08430>],\n",
       " [Text(-0.7182151147211775, 0.8331668794341539, '4 to 7 years'),\n",
       "  Text(0.6326960458468619, -0.8998309361039694, 'more than 7'),\n",
       "  Text(1.0922253334526946, -0.13055198567678017, 'new'),\n",
       "  Text(1.0997722625011295, -0.022382373268869066, 'less than 4 years')],\n",
       " [Text(-0.39175369893882406, 0.45445466150953845, '72.65%'),\n",
       "  Text(0.34510693409828824, -0.4908168742385287, '24.22%'),\n",
       "  Text(0.5957592727923788, -0.07121017400551645, '2.49%'),\n",
       "  Text(0.5998757795460705, -0.012208567237564943, '0.65%')])"
      ]
     },
     "execution_count": 92,
     "metadata": {},
     "output_type": "execute_result"
    },
    {
     "data": {
      "image/png": "[encoded data removed]",
      "text/plain": [
       "<Figure size 432x288 with 1 Axes>"
      ]
     },
     "metadata": {},
     "output_type": "display_data"
    }
   ],
   "source": [
    "plt.pie(vehage_vals[:4],labels=vehage_index[:4],autopct='%1.2f%%')"
   ]
  },
  {
   "cell_type": "markdown",
   "id": "ad3b64ac",
   "metadata": {},
   "source": [
    "### Removing categorical values and 0 value"
   ]
  },
  {
   "cell_type": "code",
   "execution_count": 93,
   "id": "89221136",
   "metadata": {},
   "outputs": [
    {
     "name": "stdout",
     "output_type": "stream",
     "text": [
      "[False False False False False False False  True False False False False\n",
      " False False False False False False False False False False False False\n",
      " False False False False False False False False False False False False\n",
      " False False False False False False False False False False False False\n",
      " False False False False False False False False False False False False\n",
      " False False False False False False]\n"
     ]
    },
    {
     "data": {
      "text/plain": [
       "320"
      ]
     },
     "execution_count": 93,
     "metadata": {},
     "output_type": "execute_result"
    }
   ],
   "source": [
    "#0 values only in Age column\n",
    "print(df['Age'].unique()==0)\n",
    "len(df[df['Age']==0])"
   ]
  },
  {
   "cell_type": "code",
   "execution_count": 94,
   "id": "02b8fe0d",
   "metadata": {},
   "outputs": [
    {
     "name": "stdout",
     "output_type": "stream",
     "text": [
      "Month\n",
      "DayOfWeek\n",
      "Make\n",
      "AccidentArea\n",
      "DayOfWeekClaimed\n",
      "MonthClaimed\n",
      "Sex\n",
      "MaritalStatus\n",
      "Fault\n",
      "PolicyType\n",
      "VehicleCategory\n",
      "VehiclePrice\n",
      "Days_Policy_Accident\n",
      "Days_Policy_Claim\n",
      "PastNumberOfClaims\n",
      "AgeOfVehicle\n",
      "AgeOfPolicyHolder\n",
      "PoliceReportFiled\n",
      "WitnessPresent\n",
      "AgentType\n",
      "NumberOf Suppliments\n",
      "AddressChange_Claim\n",
      "NumberOfCars\n",
      "BasePolicy\n"
     ]
    }
   ],
   "source": [
    " #Making a copy of original dataframe for preprocessing\n",
    "df_temp = df.copy()\n",
    "\n",
    "# Finding columns which contains strings\n",
    "for labels, content in df_temp.items():\n",
    "    if pd.api.types.is_string_dtype(content):\n",
    "        print(labels)"
   ]
  },
  {
   "cell_type": "code",
   "execution_count": 95,
   "id": "7be081f9",
   "metadata": {},
   "outputs": [],
   "source": [
    "#Fill 0 value with median of the column\n",
    "df_temp[\"Age\"] = df_temp[\"Age\"].replace(0,df[\"Age\"].median())"
   ]
  },
  {
   "cell_type": "code",
   "execution_count": 96,
   "id": "f5c9de61",
   "metadata": {},
   "outputs": [
    {
     "name": "stdout",
     "output_type": "stream",
     "text": [
      "[False False False False False False False False False False False False\n",
      " False False False False False False False False False False False False\n",
      " False False False False False False False False False False False False\n",
      " False False False False False False False False False False False False\n",
      " False False False False False False False False False False False False\n",
      " False False False False False]\n"
     ]
    },
    {
     "data": {
      "text/plain": [
       "0"
      ]
     },
     "execution_count": 96,
     "metadata": {},
     "output_type": "execute_result"
    }
   ],
   "source": [
    "# Let's Check if we have 0 in Age\n",
    "print(df_temp['Age'].unique()==0)\n",
    "len(df_temp[df_temp['Age']==0])"
   ]
  },
  {
   "cell_type": "code",
   "execution_count": 97,
   "id": "3de45fb1",
   "metadata": {},
   "outputs": [],
   "source": [
    "# Now turn all string into categorical features\n",
    "for labels, content in df_temp.items():\n",
    "    if pd.api.types.is_string_dtype(content):\n",
    "        df_temp[labels] = content.astype(\"category\").cat.as_ordered()"
   ]
  },
  {
   "cell_type": "code",
   "execution_count": 98,
   "id": "9904d433",
   "metadata": {},
   "outputs": [
    {
     "name": "stdout",
     "output_type": "stream",
     "text": [
      "<class 'pandas.core.frame.DataFrame'>\n",
      "RangeIndex: 15420 entries, 0 to 15419\n",
      "Data columns (total 35 columns):\n",
      " #   Column                Non-Null Count  Dtype   \n",
      "---  ------                --------------  -----   \n",
      " 0   Month                 15420 non-null  category\n",
      " 1   WeekOfMonth           15420 non-null  int64   \n",
      " 2   DayOfWeek             15420 non-null  category\n",
      " 3   Make                  15420 non-null  category\n",
      " 4   AccidentArea          15420 non-null  category\n",
      " 5   DayOfWeekClaimed      15420 non-null  category\n",
      " 6   MonthClaimed          15420 non-null  category\n",
      " 7   WeekOfMonthClaimed    15420 non-null  int64   \n",
      " 8   Sex                   15420 non-null  category\n",
      " 9   MaritalStatus         15420 non-null  category\n",
      " 10  Age                   15420 non-null  int64   \n",
      " 11  Fault                 15420 non-null  category\n",
      " 12  PolicyType            15420 non-null  category\n",
      " 13  VehicleCategory       15420 non-null  category\n",
      " 14  VehiclePrice          15420 non-null  category\n",
      " 15  FraudFound_P          15420 non-null  int64   \n",
      " 16  PolicyNumber          15420 non-null  int64   \n",
      " 17  RepNumber             15420 non-null  int64   \n",
      " 18  Deductible            15420 non-null  int64   \n",
      " 19  Driver Rating         15420 non-null  int64   \n",
      " 20  Days_Policy_Accident  15420 non-null  category\n",
      " 21  Days_Policy_Claim     15420 non-null  category\n",
      " 22  PastNumberOfClaims    15420 non-null  category\n",
      " 23  AgeOfVehicle          15420 non-null  category\n",
      " 24  AgeOfPolicyHolder     15420 non-null  category\n",
      " 25  PoliceReportFiled     15420 non-null  category\n",
      " 26  WitnessPresent        15420 non-null  category\n",
      " 27  AgentType             15420 non-null  category\n",
      " 28  NumberOf Suppliments  15420 non-null  category\n",
      " 29  AddressChange_Claim   15420 non-null  category\n",
      " 30  NumberOfCars          15420 non-null  category\n",
      " 31  Year                  15420 non-null  int64   \n",
      " 32  BasePolicy            15420 non-null  category\n",
      " 33  Age_Levels            15420 non-null  category\n",
      " 34  FraudDetected         15420 non-null  int64   \n",
      "dtypes: category(25), int64(10)\n",
      "memory usage: 1.5 MB\n"
     ]
    }
   ],
   "source": [
    "# Let's Check how many columns changed into Category\n",
    "df_temp.info()"
   ]
  },
  {
   "cell_type": "code",
   "execution_count": 99,
   "id": "31949c5d",
   "metadata": {},
   "outputs": [],
   "source": [
    "# Turn Categorical Features values into numeric\n",
    "df_temp['Month'].replace(['Jan', 'Feb', 'Mar', 'Apr', 'May', 'Jun', 'Jul', 'Aug', 'Sep', 'Oct', 'Nov', 'Dec'],[1,2,3,4,5,6,7,8,9,10,11,12], inplace=True)\n",
    "df_temp['DayOfWeek'].replace(['Monday', 'Tuesday', 'Wednesday', 'Thursday', 'Friday', 'Saturday', 'Sunday'],[1,2,3,4,5,6,7], inplace = True)\n",
    "df_temp['Make'].replace(['Honda', 'Pontiac', 'Chevrolet', 'Mazda', 'Toyota','Accura','BMW','Dodge','Ferrari','Ford','Jaguar','Lexus','Mecedes','Mercury','Nisson','Porche','Saab','Saturn','VW'], [1,2,3,4,5,6,7,8,9,10,11,12,13,14,15,16,17,18,19], inplace=True)\n",
    "df_temp['AccidentArea'].replace(['Urban', 'Rural'],[0,1],inplace=True)\n",
    "df_temp['DayOfWeekClaimed'].replace(['Monday', 'Tuesday', 'Wednesday', 'Thursday', 'Friday', 'Saturday', 'Sunday'],[1,2,3,4,5,6,7], inplace = True)\n",
    "df_temp['MonthClaimed'].replace(['Jan', 'Feb', 'Mar', 'Apr', 'May', 'Jun', 'Jul', 'Aug', 'Sep', 'Oct', 'Nov', 'Dec'],[1,2,3,4,5,6,7,8,9,10,11,12], inplace=True)\n",
    "df_temp['Sex'].replace(['Male' , 'Female'],[0,1],inplace=True)\n",
    "df_temp['MaritalStatus'].replace(['Single', 'Married','Divorced','Widow'],[0,1,2,3],inplace=True)\n",
    "df_temp['Fault'].replace(['Policy Holder', 'Third Party'], [0,1],inplace=True)\n",
    "df_temp['PolicyType'].replace(['Sport - Liability','Sport - Collision','Sport - All Perils', 'Sedan - Liability','Sedan - Collision','Sedan - All Perils', 'Utility - All Perils','Utility - Liability','Utility - Collision'],[1,2,3,4,5,6,7,8,9],inplace=True)\n",
    "df_temp['VehicleCategory'].replace(['Sedan','Sport','Utility'],[1,2,3],inplace=True)\n",
    "df_temp['VehiclePrice'].replace(['20000 to 29000','30000 to 39000','40000 to 59000','60000 to 69000','less than 20000','more than 69000'],[1,2,3,4,5,6],inplace=True)\n",
    "df_temp['Days_Policy_Accident'].replace(['none','1 to 7','8 to 15','15 to 30','more than 30'],[0,1,2,3,4],inplace=True) # 3 & 4\n",
    "df_temp['Days_Policy_Claim'].replace(['none','8 to 15','15 to 30','more than 30'],[0,1,2,3],inplace=True)\n",
    "df_temp['PastNumberOfClaims'].replace(['none','1','2 to 4','more than 4'],[0,1,2,3],inplace=True)  #3\n",
    "df_temp['AgeOfVehicle'].replace(['new','2 years','3 years','4 years','5 years','6 years','7 years','more than 7','4 to 7 years','less than 4 years'],[0,1,2,3,4,5,6,7,8,9],inplace=True)\n",
    "df_temp['AgeOfPolicyHolder'].replace(['16 to 17','18 to 20','21 to 25','26 to 30','31 to 35','36 to 40','41 to 50','51 to 65','over 65'],[0,1,2,3,4,5,6,7,8],inplace=True)\n",
    "df_temp['PoliceReportFiled'].replace(['No','Yes'],[0,1],inplace=True)\n",
    "df_temp['WitnessPresent'].replace(['No','Yes'],[0,1],inplace=True)\n",
    "df_temp['AgentType'].replace(['Internal','External'],[0,1],inplace=True)\n",
    "df_temp['NumberOf Suppliments'].replace(['none','1 to 2','3 to 5','more than 5'],[0,1,2,3],inplace=True)\n",
    "df_temp['NumberOfCars'].replace(['1 vehicle','2 vehicles','3 to 4','5 to 8','more than 8'],[1,2,3,4,5],inplace=True)\n",
    "df_temp['AddressChange_Claim'].replace(['no change','1 year','2 to 3 years','4 to 8 years','under 6 months'],[0,1,2,3,4],inplace=True)\n",
    "df_temp['BasePolicy'].replace(['Liability','Collision','All Perils'],[0,1,2],inplace=True)\n",
    "df_temp['Age_Levels'].replace([\"Young\",\"Adult\", \"Seniors\"],[0,1,2],inplace=True)"
   ]
  },
  {
   "cell_type": "code",
   "execution_count": 100,
   "id": "e2e7558b",
   "metadata": {},
   "outputs": [
    {
     "data": {
      "text/html": [
       "<div>\n",
       "<style scoped>\n",
       "    .dataframe tbody tr th:only-of-type {\n",
       "        vertical-align: middle;\n",
       "    }\n",
       "\n",
       "    .dataframe tbody tr th {\n",
       "        vertical-align: top;\n",
       "    }\n",
       "\n",
       "    .dataframe thead th {\n",
       "        text-align: right;\n",
       "    }\n",
       "</style>\n",
       "<table border=\"1\" class=\"dataframe\">\n",
       "  <thead>\n",
       "    <tr style=\"text-align: right;\">\n",
       "      <th></th>\n",
       "      <th>Month</th>\n",
       "      <th>WeekOfMonth</th>\n",
       "      <th>DayOfWeek</th>\n",
       "      <th>Make</th>\n",
       "      <th>AccidentArea</th>\n",
       "      <th>DayOfWeekClaimed</th>\n",
       "      <th>MonthClaimed</th>\n",
       "      <th>WeekOfMonthClaimed</th>\n",
       "      <th>Sex</th>\n",
       "      <th>MaritalStatus</th>\n",
       "      <th>...</th>\n",
       "      <th>PoliceReportFiled</th>\n",
       "      <th>WitnessPresent</th>\n",
       "      <th>AgentType</th>\n",
       "      <th>NumberOf Suppliments</th>\n",
       "      <th>AddressChange_Claim</th>\n",
       "      <th>NumberOfCars</th>\n",
       "      <th>Year</th>\n",
       "      <th>BasePolicy</th>\n",
       "      <th>Age_Levels</th>\n",
       "      <th>FraudDetected</th>\n",
       "    </tr>\n",
       "  </thead>\n",
       "  <tbody>\n",
       "    <tr>\n",
       "      <th>0</th>\n",
       "      <td>12</td>\n",
       "      <td>5</td>\n",
       "      <td>3</td>\n",
       "      <td>1</td>\n",
       "      <td>0</td>\n",
       "      <td>2</td>\n",
       "      <td>1</td>\n",
       "      <td>1</td>\n",
       "      <td>1</td>\n",
       "      <td>0</td>\n",
       "      <td>...</td>\n",
       "      <td>0</td>\n",
       "      <td>0</td>\n",
       "      <td>1</td>\n",
       "      <td>0</td>\n",
       "      <td>1</td>\n",
       "      <td>3</td>\n",
       "      <td>1994</td>\n",
       "      <td>0</td>\n",
       "      <td>0</td>\n",
       "      <td>0</td>\n",
       "    </tr>\n",
       "    <tr>\n",
       "      <th>1</th>\n",
       "      <td>1</td>\n",
       "      <td>3</td>\n",
       "      <td>3</td>\n",
       "      <td>1</td>\n",
       "      <td>0</td>\n",
       "      <td>1</td>\n",
       "      <td>1</td>\n",
       "      <td>4</td>\n",
       "      <td>0</td>\n",
       "      <td>0</td>\n",
       "      <td>...</td>\n",
       "      <td>1</td>\n",
       "      <td>0</td>\n",
       "      <td>1</td>\n",
       "      <td>0</td>\n",
       "      <td>0</td>\n",
       "      <td>1</td>\n",
       "      <td>1994</td>\n",
       "      <td>1</td>\n",
       "      <td>1</td>\n",
       "      <td>0</td>\n",
       "    </tr>\n",
       "    <tr>\n",
       "      <th>2</th>\n",
       "      <td>10</td>\n",
       "      <td>5</td>\n",
       "      <td>5</td>\n",
       "      <td>1</td>\n",
       "      <td>0</td>\n",
       "      <td>4</td>\n",
       "      <td>11</td>\n",
       "      <td>2</td>\n",
       "      <td>0</td>\n",
       "      <td>1</td>\n",
       "      <td>...</td>\n",
       "      <td>0</td>\n",
       "      <td>0</td>\n",
       "      <td>1</td>\n",
       "      <td>0</td>\n",
       "      <td>0</td>\n",
       "      <td>1</td>\n",
       "      <td>1994</td>\n",
       "      <td>1</td>\n",
       "      <td>1</td>\n",
       "      <td>0</td>\n",
       "    </tr>\n",
       "    <tr>\n",
       "      <th>3</th>\n",
       "      <td>6</td>\n",
       "      <td>2</td>\n",
       "      <td>6</td>\n",
       "      <td>5</td>\n",
       "      <td>1</td>\n",
       "      <td>5</td>\n",
       "      <td>7</td>\n",
       "      <td>1</td>\n",
       "      <td>0</td>\n",
       "      <td>1</td>\n",
       "      <td>...</td>\n",
       "      <td>1</td>\n",
       "      <td>0</td>\n",
       "      <td>1</td>\n",
       "      <td>3</td>\n",
       "      <td>0</td>\n",
       "      <td>1</td>\n",
       "      <td>1994</td>\n",
       "      <td>0</td>\n",
       "      <td>2</td>\n",
       "      <td>0</td>\n",
       "    </tr>\n",
       "    <tr>\n",
       "      <th>4</th>\n",
       "      <td>1</td>\n",
       "      <td>5</td>\n",
       "      <td>1</td>\n",
       "      <td>1</td>\n",
       "      <td>0</td>\n",
       "      <td>2</td>\n",
       "      <td>2</td>\n",
       "      <td>2</td>\n",
       "      <td>1</td>\n",
       "      <td>0</td>\n",
       "      <td>...</td>\n",
       "      <td>0</td>\n",
       "      <td>0</td>\n",
       "      <td>1</td>\n",
       "      <td>0</td>\n",
       "      <td>0</td>\n",
       "      <td>1</td>\n",
       "      <td>1994</td>\n",
       "      <td>1</td>\n",
       "      <td>1</td>\n",
       "      <td>0</td>\n",
       "    </tr>\n",
       "    <tr>\n",
       "      <th>...</th>\n",
       "      <td>...</td>\n",
       "      <td>...</td>\n",
       "      <td>...</td>\n",
       "      <td>...</td>\n",
       "      <td>...</td>\n",
       "      <td>...</td>\n",
       "      <td>...</td>\n",
       "      <td>...</td>\n",
       "      <td>...</td>\n",
       "      <td>...</td>\n",
       "      <td>...</td>\n",
       "      <td>...</td>\n",
       "      <td>...</td>\n",
       "      <td>...</td>\n",
       "      <td>...</td>\n",
       "      <td>...</td>\n",
       "      <td>...</td>\n",
       "      <td>...</td>\n",
       "      <td>...</td>\n",
       "      <td>...</td>\n",
       "      <td>...</td>\n",
       "    </tr>\n",
       "    <tr>\n",
       "      <th>15415</th>\n",
       "      <td>11</td>\n",
       "      <td>4</td>\n",
       "      <td>5</td>\n",
       "      <td>5</td>\n",
       "      <td>0</td>\n",
       "      <td>2</td>\n",
       "      <td>11</td>\n",
       "      <td>5</td>\n",
       "      <td>0</td>\n",
       "      <td>1</td>\n",
       "      <td>...</td>\n",
       "      <td>0</td>\n",
       "      <td>0</td>\n",
       "      <td>1</td>\n",
       "      <td>0</td>\n",
       "      <td>0</td>\n",
       "      <td>1</td>\n",
       "      <td>1996</td>\n",
       "      <td>1</td>\n",
       "      <td>1</td>\n",
       "      <td>0</td>\n",
       "    </tr>\n",
       "    <tr>\n",
       "      <th>15416</th>\n",
       "      <td>11</td>\n",
       "      <td>5</td>\n",
       "      <td>4</td>\n",
       "      <td>2</td>\n",
       "      <td>0</td>\n",
       "      <td>5</td>\n",
       "      <td>12</td>\n",
       "      <td>1</td>\n",
       "      <td>0</td>\n",
       "      <td>1</td>\n",
       "      <td>...</td>\n",
       "      <td>0</td>\n",
       "      <td>0</td>\n",
       "      <td>1</td>\n",
       "      <td>3</td>\n",
       "      <td>0</td>\n",
       "      <td>3</td>\n",
       "      <td>1996</td>\n",
       "      <td>0</td>\n",
       "      <td>1</td>\n",
       "      <td>1</td>\n",
       "    </tr>\n",
       "    <tr>\n",
       "      <th>15417</th>\n",
       "      <td>11</td>\n",
       "      <td>5</td>\n",
       "      <td>4</td>\n",
       "      <td>5</td>\n",
       "      <td>1</td>\n",
       "      <td>5</td>\n",
       "      <td>12</td>\n",
       "      <td>1</td>\n",
       "      <td>0</td>\n",
       "      <td>0</td>\n",
       "      <td>...</td>\n",
       "      <td>0</td>\n",
       "      <td>0</td>\n",
       "      <td>1</td>\n",
       "      <td>1</td>\n",
       "      <td>0</td>\n",
       "      <td>1</td>\n",
       "      <td>1996</td>\n",
       "      <td>1</td>\n",
       "      <td>0</td>\n",
       "      <td>1</td>\n",
       "    </tr>\n",
       "    <tr>\n",
       "      <th>15418</th>\n",
       "      <td>12</td>\n",
       "      <td>1</td>\n",
       "      <td>1</td>\n",
       "      <td>5</td>\n",
       "      <td>0</td>\n",
       "      <td>4</td>\n",
       "      <td>12</td>\n",
       "      <td>2</td>\n",
       "      <td>1</td>\n",
       "      <td>1</td>\n",
       "      <td>...</td>\n",
       "      <td>0</td>\n",
       "      <td>0</td>\n",
       "      <td>1</td>\n",
       "      <td>3</td>\n",
       "      <td>0</td>\n",
       "      <td>1</td>\n",
       "      <td>1996</td>\n",
       "      <td>2</td>\n",
       "      <td>1</td>\n",
       "      <td>0</td>\n",
       "    </tr>\n",
       "    <tr>\n",
       "      <th>15419</th>\n",
       "      <td>12</td>\n",
       "      <td>2</td>\n",
       "      <td>3</td>\n",
       "      <td>5</td>\n",
       "      <td>0</td>\n",
       "      <td>4</td>\n",
       "      <td>12</td>\n",
       "      <td>3</td>\n",
       "      <td>0</td>\n",
       "      <td>0</td>\n",
       "      <td>...</td>\n",
       "      <td>0</td>\n",
       "      <td>0</td>\n",
       "      <td>1</td>\n",
       "      <td>1</td>\n",
       "      <td>0</td>\n",
       "      <td>1</td>\n",
       "      <td>1996</td>\n",
       "      <td>1</td>\n",
       "      <td>0</td>\n",
       "      <td>0</td>\n",
       "    </tr>\n",
       "  </tbody>\n",
       "</table>\n",
       "<p>15420 rows × 35 columns</p>\n",
       "</div>"
      ],
      "text/plain": [
       "       Month  WeekOfMonth  DayOfWeek  Make  AccidentArea DayOfWeekClaimed  \\\n",
       "0         12            5          3     1             0                2   \n",
       "1          1            3          3     1             0                1   \n",
       "2         10            5          5     1             0                4   \n",
       "3          6            2          6     5             1                5   \n",
       "4          1            5          1     1             0                2   \n",
       "...      ...          ...        ...   ...           ...              ...   \n",
       "15415     11            4          5     5             0                2   \n",
       "15416     11            5          4     2             0                5   \n",
       "15417     11            5          4     5             1                5   \n",
       "15418     12            1          1     5             0                4   \n",
       "15419     12            2          3     5             0                4   \n",
       "\n",
       "       MonthClaimed  WeekOfMonthClaimed  Sex  MaritalStatus  ...  \\\n",
       "0                 1                   1    1              0  ...   \n",
       "1                 1                   4    0              0  ...   \n",
       "2                11                   2    0              1  ...   \n",
       "3                 7                   1    0              1  ...   \n",
       "4                 2                   2    1              0  ...   \n",
       "...             ...                 ...  ...            ...  ...   \n",
       "15415            11                   5    0              1  ...   \n",
       "15416            12                   1    0              1  ...   \n",
       "15417            12                   1    0              0  ...   \n",
       "15418            12                   2    1              1  ...   \n",
       "15419            12                   3    0              0  ...   \n",
       "\n",
       "       PoliceReportFiled  WitnessPresent  AgentType  NumberOf Suppliments  \\\n",
       "0                      0               0          1                     0   \n",
       "1                      1               0          1                     0   \n",
       "2                      0               0          1                     0   \n",
       "3                      1               0          1                     3   \n",
       "4                      0               0          1                     0   \n",
       "...                  ...             ...        ...                   ...   \n",
       "15415                  0               0          1                     0   \n",
       "15416                  0               0          1                     3   \n",
       "15417                  0               0          1                     1   \n",
       "15418                  0               0          1                     3   \n",
       "15419                  0               0          1                     1   \n",
       "\n",
       "       AddressChange_Claim  NumberOfCars  Year  BasePolicy  Age_Levels  \\\n",
       "0                        1             3  1994           0           0   \n",
       "1                        0             1  1994           1           1   \n",
       "2                        0             1  1994           1           1   \n",
       "3                        0             1  1994           0           2   \n",
       "4                        0             1  1994           1           1   \n",
       "...                    ...           ...   ...         ...         ...   \n",
       "15415                    0             1  1996           1           1   \n",
       "15416                    0             3  1996           0           1   \n",
       "15417                    0             1  1996           1           0   \n",
       "15418                    0             1  1996           2           1   \n",
       "15419                    0             1  1996           1           0   \n",
       "\n",
       "       FraudDetected  \n",
       "0                  0  \n",
       "1                  0  \n",
       "2                  0  \n",
       "3                  0  \n",
       "4                  0  \n",
       "...              ...  \n",
       "15415              0  \n",
       "15416              1  \n",
       "15417              1  \n",
       "15418              0  \n",
       "15419              0  \n",
       "\n",
       "[15420 rows x 35 columns]"
      ]
     },
     "execution_count": 100,
     "metadata": {},
     "output_type": "execute_result"
    }
   ],
   "source": [
    "df_temp"
   ]
  },
  {
   "cell_type": "markdown",
   "id": "b33f267b",
   "metadata": {},
   "source": [
    "### SPLITTING DATA INTO TARGET & FEATURES"
   ]
  },
  {
   "cell_type": "code",
   "execution_count": 101,
   "id": "a14416df",
   "metadata": {},
   "outputs": [],
   "source": [
    "# X will contain the features\n",
    "X = df_temp.drop(['Days_Policy_Accident','PastNumberOfClaims'], axis = 1)\n",
    "# Y will contain the targets\n",
    "condition = df_temp[((df_temp['PastNumberOfClaims']==3) & (df_temp['Days_Policy_Accident'] == 3)) | ((df_temp['PastNumberOfClaims']==3) & (df_temp['Days_Policy_Accident'] == 4))]\n",
    "Y = df_temp['FraudDetected']"
   ]
  },
  {
   "cell_type": "code",
   "execution_count": 102,
   "id": "3193481a",
   "metadata": {},
   "outputs": [
    {
     "name": "stdout",
     "output_type": "stream",
     "text": [
      "       Month  WeekOfMonth  DayOfWeek  Make  AccidentArea DayOfWeekClaimed  \\\n",
      "0         12            5          3     1             0                2   \n",
      "1          1            3          3     1             0                1   \n",
      "2         10            5          5     1             0                4   \n",
      "3          6            2          6     5             1                5   \n",
      "4          1            5          1     1             0                2   \n",
      "...      ...          ...        ...   ...           ...              ...   \n",
      "15415     11            4          5     5             0                2   \n",
      "15416     11            5          4     2             0                5   \n",
      "15417     11            5          4     5             1                5   \n",
      "15418     12            1          1     5             0                4   \n",
      "15419     12            2          3     5             0                4   \n",
      "\n",
      "       MonthClaimed  WeekOfMonthClaimed  Sex  MaritalStatus  ...  \\\n",
      "0                 1                   1    1              0  ...   \n",
      "1                 1                   4    0              0  ...   \n",
      "2                11                   2    0              1  ...   \n",
      "3                 7                   1    0              1  ...   \n",
      "4                 2                   2    1              0  ...   \n",
      "...             ...                 ...  ...            ...  ...   \n",
      "15415            11                   5    0              1  ...   \n",
      "15416            12                   1    0              1  ...   \n",
      "15417            12                   1    0              0  ...   \n",
      "15418            12                   2    1              1  ...   \n",
      "15419            12                   3    0              0  ...   \n",
      "\n",
      "       PoliceReportFiled  WitnessPresent  AgentType  NumberOf Suppliments  \\\n",
      "0                      0               0          1                     0   \n",
      "1                      1               0          1                     0   \n",
      "2                      0               0          1                     0   \n",
      "3                      1               0          1                     3   \n",
      "4                      0               0          1                     0   \n",
      "...                  ...             ...        ...                   ...   \n",
      "15415                  0               0          1                     0   \n",
      "15416                  0               0          1                     3   \n",
      "15417                  0               0          1                     1   \n",
      "15418                  0               0          1                     3   \n",
      "15419                  0               0          1                     1   \n",
      "\n",
      "       AddressChange_Claim  NumberOfCars  Year  BasePolicy  Age_Levels  \\\n",
      "0                        1             3  1994           0           0   \n",
      "1                        0             1  1994           1           1   \n",
      "2                        0             1  1994           1           1   \n",
      "3                        0             1  1994           0           2   \n",
      "4                        0             1  1994           1           1   \n",
      "...                    ...           ...   ...         ...         ...   \n",
      "15415                    0             1  1996           1           1   \n",
      "15416                    0             3  1996           0           1   \n",
      "15417                    0             1  1996           1           0   \n",
      "15418                    0             1  1996           2           1   \n",
      "15419                    0             1  1996           1           0   \n",
      "\n",
      "       FraudDetected  \n",
      "0                  0  \n",
      "1                  0  \n",
      "2                  0  \n",
      "3                  0  \n",
      "4                  0  \n",
      "...              ...  \n",
      "15415              0  \n",
      "15416              1  \n",
      "15417              1  \n",
      "15418              0  \n",
      "15419              0  \n",
      "\n",
      "[15420 rows x 33 columns]\n"
     ]
    }
   ],
   "source": [
    "#printing the feature data\n",
    "print(X)"
   ]
  },
  {
   "cell_type": "code",
   "execution_count": 103,
   "id": "eea13816",
   "metadata": {},
   "outputs": [
    {
     "name": "stdout",
     "output_type": "stream",
     "text": [
      "0        0\n",
      "1        0\n",
      "2        0\n",
      "3        0\n",
      "4        0\n",
      "        ..\n",
      "15415    0\n",
      "15416    1\n",
      "15417    1\n",
      "15418    0\n",
      "15419    0\n",
      "Name: FraudDetected, Length: 15420, dtype: int64\n"
     ]
    }
   ],
   "source": [
    "#printing the target data\n",
    "print(Y)"
   ]
  },
  {
   "cell_type": "markdown",
   "id": "3d3c8dd9",
   "metadata": {},
   "source": [
    "### SPLITING THE DATA INTO TRAINING DATA & TESTING DATA"
   ]
  },
  {
   "cell_type": "code",
   "execution_count": 104,
   "id": "e1fc9046",
   "metadata": {},
   "outputs": [
    {
     "data": {
      "text/plain": [
       "(15420, 33)"
      ]
     },
     "execution_count": 104,
     "metadata": {},
     "output_type": "execute_result"
    }
   ],
   "source": [
    "X.shape"
   ]
  },
  {
   "cell_type": "code",
   "execution_count": 105,
   "id": "eb32e65d",
   "metadata": {},
   "outputs": [
    {
     "data": {
      "text/plain": [
       "(15420,)"
      ]
     },
     "execution_count": 105,
     "metadata": {},
     "output_type": "execute_result"
    }
   ],
   "source": [
    "Y.shape"
   ]
  },
  {
   "cell_type": "code",
   "execution_count": 106,
   "id": "80537417",
   "metadata": {},
   "outputs": [],
   "source": [
    "# Split data into train and test dataset\n",
    "X_train , X_test , Y_train , Y_test = train_test_split(X , Y, test_size = 0.2 , random_state = 2)"
   ]
  },
  {
   "cell_type": "code",
   "execution_count": 118,
   "id": "a3c05644",
   "metadata": {},
   "outputs": [
    {
     "name": "stdout",
     "output_type": "stream",
     "text": [
      "Training target statistics: Counter({0: 10732, 1: 1604})\n",
      "Testing target statistics: Counter({0: 2681, 1: 403})\n"
     ]
    },
    {
     "data": {
      "text/plain": [
       "((12336, 33), (3084, 33), (12336,), (3084,))"
      ]
     },
     "execution_count": 118,
     "metadata": {},
     "output_type": "execute_result"
    }
   ],
   "source": [
    "# Let's Check our Train and Test Split\n",
    "from collections import Counter\n",
    "print(f\"Training target statistics: {Counter(Y_train)}\")\n",
    "print(f\"Testing target statistics: {Counter(Y_test)}\")\n",
    "X_train.shape, X_test.shape, Y_train.shape, Y_test.shape"
   ]
  },
  {
   "cell_type": "markdown",
   "id": "a0aa7ee9",
   "metadata": {},
   "source": [
    "#### Target Feature is totally unbalanced so we would apply scikit-learn function to balance the weight of classes"
   ]
  },
  {
   "cell_type": "code",
   "execution_count": 107,
   "id": "1b2249ba",
   "metadata": {},
   "outputs": [
    {
     "data": {
      "text/plain": [
       "{0: 0.5747297800969065, 1: 3.8453865336658355}"
      ]
     },
     "execution_count": 107,
     "metadata": {},
     "output_type": "execute_result"
    }
   ],
   "source": [
    "# Let's import the function\n",
    "from sklearn.utils import class_weight\n",
    "class_weights = dict(zip(np.unique(Y_train), class_weight.compute_class_weight(class_weight='balanced',classes= np.unique(Y_train), y = Y_train)))\n",
    "class_weights"
   ]
  },
  {
   "cell_type": "code",
   "execution_count": 108,
   "id": "00e8e1da",
   "metadata": {},
   "outputs": [],
   "source": [
    "# Let's put our models into dictionary \n",
    "models = {\"Logistic Regression\": LogisticRegression(class_weight=class_weights,solver = 'liblinear'),\n",
    "          \"KNN\": KNeighborsClassifier(),\n",
    "          \"Random Forest Classifier\": RandomForestClassifier(class_weight=class_weights)}"
   ]
  },
  {
   "cell_type": "code",
   "execution_count": 109,
   "id": "d6c9844d",
   "metadata": {},
   "outputs": [],
   "source": [
    "# Let's create a function to fit and later score our models\n",
    "def fit_score(models, X_train, X_test, Y_train, Y_test):\n",
    "    \"\"\"\n",
    "    Fits and evaluates the given machine learning models\n",
    "    \"\"\"\n",
    "    # random seed for reproduction\n",
    "    np.random.seed(42)\n",
    "    \n",
    "    # Let's create a empty dictionary to keep model score\n",
    "    model_score = {}\n",
    "    \n",
    "    # Let's loop through the models dictionary\n",
    "    for name, model in models.items():\n",
    "        # Fit the model\n",
    "        model.fit(X_train, Y_train)\n",
    "        # Evaluate the score and append it\n",
    "        model_score[name] = model.score(X_test,Y_test)\n",
    "    return model_score"
   ]
  },
  {
   "cell_type": "code",
   "execution_count": 110,
   "id": "33de9b77",
   "metadata": {},
   "outputs": [
    {
     "data": {
      "text/plain": [
       "{'Logistic Regression': 1.0,\n",
       " 'KNN': 0.8583009079118028,\n",
       " 'Random Forest Classifier': 1.0}"
      ]
     },
     "execution_count": 110,
     "metadata": {},
     "output_type": "execute_result"
    }
   ],
   "source": [
    "model_score = fit_score(models=models,\n",
    "                        X_train=X_train,\n",
    "                        X_test=X_test,\n",
    "                        Y_train=Y_train,\n",
    "                        Y_test=Y_test)\n",
    "model_score"
   ]
  },
  {
   "cell_type": "code",
   "execution_count": 111,
   "id": "42d38429",
   "metadata": {},
   "outputs": [
    {
     "data": {
      "text/html": [
       "<div>\n",
       "<style scoped>\n",
       "    .dataframe tbody tr th:only-of-type {\n",
       "        vertical-align: middle;\n",
       "    }\n",
       "\n",
       "    .dataframe tbody tr th {\n",
       "        vertical-align: top;\n",
       "    }\n",
       "\n",
       "    .dataframe thead th {\n",
       "        text-align: right;\n",
       "    }\n",
       "</style>\n",
       "<table border=\"1\" class=\"dataframe\">\n",
       "  <thead>\n",
       "    <tr style=\"text-align: right;\">\n",
       "      <th></th>\n",
       "      <th>Logistic Regression</th>\n",
       "      <th>KNN</th>\n",
       "      <th>Random Forest Classifier</th>\n",
       "    </tr>\n",
       "  </thead>\n",
       "  <tbody>\n",
       "    <tr>\n",
       "      <th>Accuracy</th>\n",
       "      <td>1.0</td>\n",
       "      <td>0.858301</td>\n",
       "      <td>1.0</td>\n",
       "    </tr>\n",
       "  </tbody>\n",
       "</table>\n",
       "</div>"
      ],
      "text/plain": [
       "          Logistic Regression       KNN  Random Forest Classifier\n",
       "Accuracy                  1.0  0.858301                       1.0"
      ]
     },
     "execution_count": 111,
     "metadata": {},
     "output_type": "execute_result"
    }
   ],
   "source": [
    "# Save into DataFrame\n",
    "model_compare = pd.DataFrame(model_score,index=[\"Accuracy\"])\n",
    "model_compare"
   ]
  },
  {
   "cell_type": "code",
   "execution_count": 112,
   "id": "89ba508d",
   "metadata": {},
   "outputs": [
    {
     "data": {
      "text/plain": [
       "<AxesSubplot:>"
      ]
     },
     "execution_count": 112,
     "metadata": {},
     "output_type": "execute_result"
    },
    {
     "data": {
      "image/png": "[encoded data removed]",
      "text/plain": [
       "<Figure size 432x288 with 1 Axes>"
      ]
     },
     "metadata": {
      "needs_background": "light"
     },
     "output_type": "display_data"
    }
   ],
   "source": [
    "#Let's Plot The Models and Compare\n",
    "model_compare.T.plot(kind=\"bar\")"
   ]
  },
  {
   "cell_type": "markdown",
   "id": "82e70227",
   "metadata": {},
   "source": [
    "###  LOGISTIC REGRESSION MODEL"
   ]
  },
  {
   "cell_type": "code",
   "execution_count": 114,
   "id": "115aac62",
   "metadata": {},
   "outputs": [
    {
     "name": "stderr",
     "output_type": "stream",
     "text": [
      "C:\\Users\\adibh\\anaconda3\\lib\\site-packages\\sklearn\\linear_model\\_logistic.py:763: ConvergenceWarning: lbfgs failed to converge (status=1):\n",
      "STOP: TOTAL NO. of ITERATIONS REACHED LIMIT.\n",
      "\n",
      "Increase the number of iterations (max_iter) or scale the data as shown in:\n",
      "    https://scikit-learn.org/stable/modules/preprocessing.html\n",
      "Please also refer to the documentation for alternative solver options:\n",
      "    https://scikit-learn.org/stable/modules/linear_model.html#logistic-regression\n",
      "  n_iter_i = _check_optimize_result(\n"
     ]
    },
    {
     "data": {
      "text/plain": [
       "LogisticRegression()"
      ]
     },
     "execution_count": 114,
     "metadata": {},
     "output_type": "execute_result"
    }
   ],
   "source": [
    "logreg = LogisticRegression()\n",
    "logreg.fit(X_train, Y_train)"
   ]
  },
  {
   "cell_type": "code",
   "execution_count": 115,
   "id": "0ab2e251",
   "metadata": {},
   "outputs": [
    {
     "name": "stdout",
     "output_type": "stream",
     "text": [
      "Accuracy of logistic regression classifier on test set: 0.94\n"
     ]
    }
   ],
   "source": [
    "y_pred = logreg.predict(X_test)\n",
    "print('Accuracy of logistic regression classifier on test set: {:.2f}'.format(logreg.score(X_test, Y_test)))"
   ]
  },
  {
   "cell_type": "code",
   "execution_count": 116,
   "id": "5aed42a6",
   "metadata": {},
   "outputs": [
    {
     "name": "stdout",
     "output_type": "stream",
     "text": [
      "[[2654   27]\n",
      " [ 165  238]]\n"
     ]
    }
   ],
   "source": [
    "from sklearn.metrics import confusion_matrix\n",
    "confusion_matrix = confusion_matrix(Y_test, y_pred)\n",
    "print(confusion_matrix)\n",
    "#The result is telling us that we have 2654+27 correct predictions and 165+238 incorrect predictions."
   ]
  },
  {
   "cell_type": "code",
   "execution_count": 120,
   "id": "e3082c0a",
   "metadata": {},
   "outputs": [
    {
     "data": {
      "text/html": [
       "<div>\n",
       "<style scoped>\n",
       "    .dataframe tbody tr th:only-of-type {\n",
       "        vertical-align: middle;\n",
       "    }\n",
       "\n",
       "    .dataframe tbody tr th {\n",
       "        vertical-align: top;\n",
       "    }\n",
       "\n",
       "    .dataframe thead th {\n",
       "        text-align: right;\n",
       "    }\n",
       "</style>\n",
       "<table border=\"1\" class=\"dataframe\">\n",
       "  <thead>\n",
       "    <tr style=\"text-align: right;\">\n",
       "      <th></th>\n",
       "      <th>Month</th>\n",
       "      <th>WeekOfMonth</th>\n",
       "      <th>DayOfWeek</th>\n",
       "      <th>Make</th>\n",
       "      <th>AccidentArea</th>\n",
       "      <th>DayOfWeekClaimed</th>\n",
       "      <th>MonthClaimed</th>\n",
       "      <th>WeekOfMonthClaimed</th>\n",
       "      <th>Sex</th>\n",
       "      <th>MaritalStatus</th>\n",
       "      <th>...</th>\n",
       "      <th>PoliceReportFiled</th>\n",
       "      <th>WitnessPresent</th>\n",
       "      <th>AgentType</th>\n",
       "      <th>NumberOf Suppliments</th>\n",
       "      <th>AddressChange_Claim</th>\n",
       "      <th>NumberOfCars</th>\n",
       "      <th>Year</th>\n",
       "      <th>BasePolicy</th>\n",
       "      <th>Age_Levels</th>\n",
       "      <th>FraudDetected</th>\n",
       "    </tr>\n",
       "  </thead>\n",
       "  <tbody>\n",
       "    <tr>\n",
       "      <th>0</th>\n",
       "      <td>12</td>\n",
       "      <td>5</td>\n",
       "      <td>3</td>\n",
       "      <td>1</td>\n",
       "      <td>0</td>\n",
       "      <td>2</td>\n",
       "      <td>1</td>\n",
       "      <td>1</td>\n",
       "      <td>1</td>\n",
       "      <td>0</td>\n",
       "      <td>...</td>\n",
       "      <td>0</td>\n",
       "      <td>0</td>\n",
       "      <td>1</td>\n",
       "      <td>0</td>\n",
       "      <td>1</td>\n",
       "      <td>3</td>\n",
       "      <td>1994</td>\n",
       "      <td>0</td>\n",
       "      <td>0</td>\n",
       "      <td>0</td>\n",
       "    </tr>\n",
       "    <tr>\n",
       "      <th>1</th>\n",
       "      <td>1</td>\n",
       "      <td>3</td>\n",
       "      <td>3</td>\n",
       "      <td>1</td>\n",
       "      <td>0</td>\n",
       "      <td>1</td>\n",
       "      <td>1</td>\n",
       "      <td>4</td>\n",
       "      <td>0</td>\n",
       "      <td>0</td>\n",
       "      <td>...</td>\n",
       "      <td>1</td>\n",
       "      <td>0</td>\n",
       "      <td>1</td>\n",
       "      <td>0</td>\n",
       "      <td>0</td>\n",
       "      <td>1</td>\n",
       "      <td>1994</td>\n",
       "      <td>1</td>\n",
       "      <td>1</td>\n",
       "      <td>0</td>\n",
       "    </tr>\n",
       "    <tr>\n",
       "      <th>2</th>\n",
       "      <td>10</td>\n",
       "      <td>5</td>\n",
       "      <td>5</td>\n",
       "      <td>1</td>\n",
       "      <td>0</td>\n",
       "      <td>4</td>\n",
       "      <td>11</td>\n",
       "      <td>2</td>\n",
       "      <td>0</td>\n",
       "      <td>1</td>\n",
       "      <td>...</td>\n",
       "      <td>0</td>\n",
       "      <td>0</td>\n",
       "      <td>1</td>\n",
       "      <td>0</td>\n",
       "      <td>0</td>\n",
       "      <td>1</td>\n",
       "      <td>1994</td>\n",
       "      <td>1</td>\n",
       "      <td>1</td>\n",
       "      <td>0</td>\n",
       "    </tr>\n",
       "    <tr>\n",
       "      <th>3</th>\n",
       "      <td>6</td>\n",
       "      <td>2</td>\n",
       "      <td>6</td>\n",
       "      <td>5</td>\n",
       "      <td>1</td>\n",
       "      <td>5</td>\n",
       "      <td>7</td>\n",
       "      <td>1</td>\n",
       "      <td>0</td>\n",
       "      <td>1</td>\n",
       "      <td>...</td>\n",
       "      <td>1</td>\n",
       "      <td>0</td>\n",
       "      <td>1</td>\n",
       "      <td>3</td>\n",
       "      <td>0</td>\n",
       "      <td>1</td>\n",
       "      <td>1994</td>\n",
       "      <td>0</td>\n",
       "      <td>2</td>\n",
       "      <td>0</td>\n",
       "    </tr>\n",
       "    <tr>\n",
       "      <th>4</th>\n",
       "      <td>1</td>\n",
       "      <td>5</td>\n",
       "      <td>1</td>\n",
       "      <td>1</td>\n",
       "      <td>0</td>\n",
       "      <td>2</td>\n",
       "      <td>2</td>\n",
       "      <td>2</td>\n",
       "      <td>1</td>\n",
       "      <td>0</td>\n",
       "      <td>...</td>\n",
       "      <td>0</td>\n",
       "      <td>0</td>\n",
       "      <td>1</td>\n",
       "      <td>0</td>\n",
       "      <td>0</td>\n",
       "      <td>1</td>\n",
       "      <td>1994</td>\n",
       "      <td>1</td>\n",
       "      <td>1</td>\n",
       "      <td>0</td>\n",
       "    </tr>\n",
       "    <tr>\n",
       "      <th>...</th>\n",
       "      <td>...</td>\n",
       "      <td>...</td>\n",
       "      <td>...</td>\n",
       "      <td>...</td>\n",
       "      <td>...</td>\n",
       "      <td>...</td>\n",
       "      <td>...</td>\n",
       "      <td>...</td>\n",
       "      <td>...</td>\n",
       "      <td>...</td>\n",
       "      <td>...</td>\n",
       "      <td>...</td>\n",
       "      <td>...</td>\n",
       "      <td>...</td>\n",
       "      <td>...</td>\n",
       "      <td>...</td>\n",
       "      <td>...</td>\n",
       "      <td>...</td>\n",
       "      <td>...</td>\n",
       "      <td>...</td>\n",
       "      <td>...</td>\n",
       "    </tr>\n",
       "    <tr>\n",
       "      <th>15415</th>\n",
       "      <td>11</td>\n",
       "      <td>4</td>\n",
       "      <td>5</td>\n",
       "      <td>5</td>\n",
       "      <td>0</td>\n",
       "      <td>2</td>\n",
       "      <td>11</td>\n",
       "      <td>5</td>\n",
       "      <td>0</td>\n",
       "      <td>1</td>\n",
       "      <td>...</td>\n",
       "      <td>0</td>\n",
       "      <td>0</td>\n",
       "      <td>1</td>\n",
       "      <td>0</td>\n",
       "      <td>0</td>\n",
       "      <td>1</td>\n",
       "      <td>1996</td>\n",
       "      <td>1</td>\n",
       "      <td>1</td>\n",
       "      <td>0</td>\n",
       "    </tr>\n",
       "    <tr>\n",
       "      <th>15416</th>\n",
       "      <td>11</td>\n",
       "      <td>5</td>\n",
       "      <td>4</td>\n",
       "      <td>2</td>\n",
       "      <td>0</td>\n",
       "      <td>5</td>\n",
       "      <td>12</td>\n",
       "      <td>1</td>\n",
       "      <td>0</td>\n",
       "      <td>1</td>\n",
       "      <td>...</td>\n",
       "      <td>0</td>\n",
       "      <td>0</td>\n",
       "      <td>1</td>\n",
       "      <td>3</td>\n",
       "      <td>0</td>\n",
       "      <td>3</td>\n",
       "      <td>1996</td>\n",
       "      <td>0</td>\n",
       "      <td>1</td>\n",
       "      <td>1</td>\n",
       "    </tr>\n",
       "    <tr>\n",
       "      <th>15417</th>\n",
       "      <td>11</td>\n",
       "      <td>5</td>\n",
       "      <td>4</td>\n",
       "      <td>5</td>\n",
       "      <td>1</td>\n",
       "      <td>5</td>\n",
       "      <td>12</td>\n",
       "      <td>1</td>\n",
       "      <td>0</td>\n",
       "      <td>0</td>\n",
       "      <td>...</td>\n",
       "      <td>0</td>\n",
       "      <td>0</td>\n",
       "      <td>1</td>\n",
       "      <td>1</td>\n",
       "      <td>0</td>\n",
       "      <td>1</td>\n",
       "      <td>1996</td>\n",
       "      <td>1</td>\n",
       "      <td>0</td>\n",
       "      <td>1</td>\n",
       "    </tr>\n",
       "    <tr>\n",
       "      <th>15418</th>\n",
       "      <td>12</td>\n",
       "      <td>1</td>\n",
       "      <td>1</td>\n",
       "      <td>5</td>\n",
       "      <td>0</td>\n",
       "      <td>4</td>\n",
       "      <td>12</td>\n",
       "      <td>2</td>\n",
       "      <td>1</td>\n",
       "      <td>1</td>\n",
       "      <td>...</td>\n",
       "      <td>0</td>\n",
       "      <td>0</td>\n",
       "      <td>1</td>\n",
       "      <td>3</td>\n",
       "      <td>0</td>\n",
       "      <td>1</td>\n",
       "      <td>1996</td>\n",
       "      <td>2</td>\n",
       "      <td>1</td>\n",
       "      <td>0</td>\n",
       "    </tr>\n",
       "    <tr>\n",
       "      <th>15419</th>\n",
       "      <td>12</td>\n",
       "      <td>2</td>\n",
       "      <td>3</td>\n",
       "      <td>5</td>\n",
       "      <td>0</td>\n",
       "      <td>4</td>\n",
       "      <td>12</td>\n",
       "      <td>3</td>\n",
       "      <td>0</td>\n",
       "      <td>0</td>\n",
       "      <td>...</td>\n",
       "      <td>0</td>\n",
       "      <td>0</td>\n",
       "      <td>1</td>\n",
       "      <td>1</td>\n",
       "      <td>0</td>\n",
       "      <td>1</td>\n",
       "      <td>1996</td>\n",
       "      <td>1</td>\n",
       "      <td>0</td>\n",
       "      <td>0</td>\n",
       "    </tr>\n",
       "  </tbody>\n",
       "</table>\n",
       "<p>15420 rows × 35 columns</p>\n",
       "</div>"
      ],
      "text/plain": [
       "       Month  WeekOfMonth  DayOfWeek  Make  AccidentArea DayOfWeekClaimed  \\\n",
       "0         12            5          3     1             0                2   \n",
       "1          1            3          3     1             0                1   \n",
       "2         10            5          5     1             0                4   \n",
       "3          6            2          6     5             1                5   \n",
       "4          1            5          1     1             0                2   \n",
       "...      ...          ...        ...   ...           ...              ...   \n",
       "15415     11            4          5     5             0                2   \n",
       "15416     11            5          4     2             0                5   \n",
       "15417     11            5          4     5             1                5   \n",
       "15418     12            1          1     5             0                4   \n",
       "15419     12            2          3     5             0                4   \n",
       "\n",
       "       MonthClaimed  WeekOfMonthClaimed  Sex  MaritalStatus  ...  \\\n",
       "0                 1                   1    1              0  ...   \n",
       "1                 1                   4    0              0  ...   \n",
       "2                11                   2    0              1  ...   \n",
       "3                 7                   1    0              1  ...   \n",
       "4                 2                   2    1              0  ...   \n",
       "...             ...                 ...  ...            ...  ...   \n",
       "15415            11                   5    0              1  ...   \n",
       "15416            12                   1    0              1  ...   \n",
       "15417            12                   1    0              0  ...   \n",
       "15418            12                   2    1              1  ...   \n",
       "15419            12                   3    0              0  ...   \n",
       "\n",
       "       PoliceReportFiled  WitnessPresent  AgentType  NumberOf Suppliments  \\\n",
       "0                      0               0          1                     0   \n",
       "1                      1               0          1                     0   \n",
       "2                      0               0          1                     0   \n",
       "3                      1               0          1                     3   \n",
       "4                      0               0          1                     0   \n",
       "...                  ...             ...        ...                   ...   \n",
       "15415                  0               0          1                     0   \n",
       "15416                  0               0          1                     3   \n",
       "15417                  0               0          1                     1   \n",
       "15418                  0               0          1                     3   \n",
       "15419                  0               0          1                     1   \n",
       "\n",
       "       AddressChange_Claim  NumberOfCars  Year  BasePolicy  Age_Levels  \\\n",
       "0                        1             3  1994           0           0   \n",
       "1                        0             1  1994           1           1   \n",
       "2                        0             1  1994           1           1   \n",
       "3                        0             1  1994           0           2   \n",
       "4                        0             1  1994           1           1   \n",
       "...                    ...           ...   ...         ...         ...   \n",
       "15415                    0             1  1996           1           1   \n",
       "15416                    0             3  1996           0           1   \n",
       "15417                    0             1  1996           1           0   \n",
       "15418                    0             1  1996           2           1   \n",
       "15419                    0             1  1996           1           0   \n",
       "\n",
       "       FraudDetected  \n",
       "0                  0  \n",
       "1                  0  \n",
       "2                  0  \n",
       "3                  0  \n",
       "4                  0  \n",
       "...              ...  \n",
       "15415              0  \n",
       "15416              1  \n",
       "15417              1  \n",
       "15418              0  \n",
       "15419              0  \n",
       "\n",
       "[15420 rows x 35 columns]"
      ]
     },
     "execution_count": 120,
     "metadata": {},
     "output_type": "execute_result"
    }
   ],
   "source": [
    "df_temp"
   ]
  },
  {
   "cell_type": "code",
   "execution_count": 133,
   "id": "606ddb21",
   "metadata": {},
   "outputs": [
    {
     "name": "stdout",
     "output_type": "stream",
     "text": [
      "Fraud or Not 1\n"
     ]
    }
   ],
   "source": [
    "input_data = (12,5,3,1,0,2,1,1,1,0,21,0,1,2,6,0,1,12,300,1,4,3,0,9,3,0,0,1,0,1,3,1994,0)\n",
    "# changing input_data to a numpy array -> as the input_data is tuple\n",
    "input_data_as_numpy_array = np.asarray(input_data)\n",
    "\n",
    "# reshape the array -> to know our model that we want the value for only one particular data point\n",
    "input_data_reshaped = input_data_as_numpy_array.reshape(1,-1)\n",
    "\n",
    "prediction = logreg.predict(input_data_reshaped)\n",
    "# print(prediction)\n",
    "\n",
    "print('Fraud or Not',prediction[0])"
   ]
  },
  {
   "cell_type": "code",
   "execution_count": null,
   "id": "320193ef",
   "metadata": {},
   "outputs": [],
   "source": []
  }
 ],
 "metadata": {
  "kernelspec": {
   "display_name": "Python 3 (ipykernel)",
   "language": "python",
   "name": "python3"
  },
  "language_info": {
   "codemirror_mode": {
    "name": "ipython",
    "version": 3
   },
   "file_extension": ".py",
   "mimetype": "text/x-python",
   "name": "python",
   "nbconvert_exporter": "python",
   "pygments_lexer": "ipython3",
   "version": "3.9.7"
  }
 },
 "nbformat": 4,
 "nbformat_minor": 5
}
